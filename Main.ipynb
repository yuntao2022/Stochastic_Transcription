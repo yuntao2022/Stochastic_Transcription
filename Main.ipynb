{
 "cells": [
  {
   "metadata": {},
   "cell_type": "markdown",
   "source": [
    "## **Calculation of Binomial Moments and Reconstruction of Probability Mass Function**  \n",
    "\n",
    "**Stochastic Kinetics of mRNA Molecules in a General Transcription Model**  \n",
    "\n",
    "*Yuntao Lu and Yunxin Zhang*  \n",
    "\n",
    "School of Mathematical Sciences, Fudan University, Shanghai 200433, China  \n",
    "\n",
    "Email: `yuntaolu22@m.fudan.edu.cn` and `xyz@fudan.edu.cn`  \n",
    "\n",
    "This script accompanies our manuscript titled **\"Stochastic Kinetics of mRNA Molecules in a General Transcription Model\"**.  \n",
    "\n",
    "It implements two core functions:  \n",
    "\n",
    "1. **`moment(D0, D1, M, threshold=1e-32)`**  \n",
    "   Computes the first $M + 1$ binomial moments $B_0, B_1, \\ldots, B_M$ (with $B_0 = 1$) of the mRNA copy number distribution, using the parameters $D_0$ and $D_1$ defined in Model (1) of our manuscript.  \n",
    "\n",
    "2. **`distribution(binomial_moments, N, threshold=1e-8)`**  \n",
    "   Reconstructs the probability mass function $[P_0, P_1, \\ldots, P_{N-1}]$ from binomial moments via Equation (7) in our manuscript, where $N$ specifies the desired vector length."
   ],
   "id": "b3bebcbb0ef8dc24"
  },
  {
   "metadata": {},
   "cell_type": "code",
   "outputs": [],
   "execution_count": 1,
   "source": [
    "import scipy.linalg as linalg\n",
    "import numpy as np\n",
    "import time\n",
    "import math"
   ],
   "id": "91f4d150-d22d-4993-b79e-129f5a3ef155"
  },
  {
   "cell_type": "code",
   "execution_count": 2,
   "id": "8d862316-783a-425a-927f-6e0212e91795",
   "metadata": {},
   "outputs": [],
   "source": [
    "import Parameters_for_Figures"
   ]
  },
  {
   "cell_type": "code",
   "execution_count": 3,
   "id": "7b379b36-de11-411e-a6ca-a299b864ad65",
   "metadata": {},
   "outputs": [],
   "source": [
    "# D0=Parameters_for_Figures.D0_3a\n",
    "# D1=Parameters_for_Figures.D1_3a"
   ]
  },
  {
   "cell_type": "code",
   "execution_count": 4,
   "id": "b5b28bac-e78a-4975-96de-acd4f75e4d58",
   "metadata": {},
   "outputs": [],
   "source": [
    "# D0=Parameters_for_Figures.D0_3b\n",
    "# D1=Parameters_for_Figures.D1_3b"
   ]
  },
  {
   "cell_type": "code",
   "execution_count": 5,
   "id": "ad334b40-dd6f-4a43-bde0-0fab3d345eda",
   "metadata": {},
   "outputs": [],
   "source": [
    "# D0=Parameters_for_Figures.D0_3c\n",
    "# D1=Parameters_for_Figures.D1_3c"
   ]
  },
  {
   "cell_type": "code",
   "execution_count": 6,
   "id": "1b36d810-b925-4e0d-ab3e-9ce6bcd58c9e",
   "metadata": {},
   "outputs": [],
   "source": [
    "D0=Parameters_for_Figures.D0_3d\n",
    "D1=Parameters_for_Figures.D1_3d"
   ]
  },
  {
   "cell_type": "code",
   "execution_count": 8,
   "id": "7322499e-f793-42b2-b5bb-e2fcb60f451a",
   "metadata": {},
   "outputs": [],
   "source": [
    "M=62\n",
    "threshold=1e-64"
   ]
  },
  {
   "cell_type": "code",
   "execution_count": 9,
   "id": "0a7e7247-da6c-40a2-b0a9-66c43c5a26ed",
   "metadata": {},
   "outputs": [],
   "source": [
    "# ==============================================\n",
    "# INPUT VALIDATION AND SAFETY CHECKS\n",
    "# ==============================================\n",
    "\n",
    "# Type checking for input parameters\n",
    "if not isinstance(D0, np.ndarray) or not isinstance(D1, np.ndarray):\n",
    "    raise TypeError(\"Input matrices D0 and D1 must be NumPy arrays\")\n",
    "if not isinstance(M, int):\n",
    "    raise TypeError(\"M must be an integer\")\n",
    "\n",
    "# Matrix dimension validation\n",
    "if D0.ndim != 2 or D1.ndim != 2:\n",
    "    raise ValueError(\"Input matrices must be 2-dimensional arrays\")\n",
    "\n",
    "n0, m0 = D0.shape\n",
    "n1, m1 = D1.shape\n",
    "\n",
    "# Check if matrices are square\n",
    "if n0 != m0:\n",
    "    raise ValueError(\"D0 must be a square matrix\")\n",
    "if n1 != m1:\n",
    "    raise ValueError(\"D1 must be a square matrix\")\n",
    "\n",
    "# Check matrix dimension consistency\n",
    "if n0 != n1:\n",
    "    raise ValueError(\"D0 and D1 must have the same dimension\")\n",
    "n = n0  # Dimension of the system\n",
    "\n",
    "# Validate moment count\n",
    "if M < 0:\n",
    "    raise ValueError(\"M must be a non-negative integer\")"
   ]
  },
  {
   "cell_type": "code",
   "execution_count": 10,
   "id": "311c0cb0-ed60-48b2-9bf1-db45edc39669",
   "metadata": {},
   "outputs": [],
   "source": [
    "# Hydrolysis rate (normalized to 1)\n",
    "d = 1.0  \n",
    "\n",
    "# Construct Q-matrix D\n",
    "D = D0 + D1"
   ]
  },
  {
   "cell_type": "code",
   "execution_count": 11,
   "id": "734d0af8-40c0-427d-a5f5-95a907b4ec7f",
   "metadata": {},
   "outputs": [
    {
     "name": "stdout",
     "output_type": "stream",
     "text": [
      "Warning: High matrix norm ||D1||_inf = 15.77 - potential numerical instability\n"
     ]
    }
   ],
   "source": [
    "# ==============================================\n",
    "# Q-MATRIX VALIDATION\n",
    "# ==============================================\n",
    "tol = 1e-8  # Numerical tolerance for checks\n",
    "\n",
    "# Validate Q-matrix properties:\n",
    "# 1. Row sums should be zero (within tolerance)\n",
    "row_sums = np.sum(D, axis=1)\n",
    "if not np.allclose(row_sums, 0, atol=tol):\n",
    "    max_error = np.max(np.abs(row_sums))\n",
    "    raise ValueError(f\"Invalid generator matrix: Row sums should be zero \"\n",
    "                     f\"(max error: {max_error:.2e})\")\n",
    "\n",
    "# 2. Off-diagonal elements should be non-negative\n",
    "D_offdiag = D.copy()\n",
    "np.fill_diagonal(D_offdiag, 0)\n",
    "if np.any(D_offdiag < -tol):\n",
    "    min_value = np.min(D_offdiag)\n",
    "    raise ValueError(f\"Invalid generator matrix: Negative off-diagonals \"\n",
    "                     f\"(min value: {min_value:.2e})\")\n",
    "\n",
    "# 3. Diagonal elements should be non-positive\n",
    "diag_elements = np.diag(D)\n",
    "if np.any(diag_elements > tol):\n",
    "    max_value = np.max(diag_elements)\n",
    "    raise ValueError(f\"Invalid generator matrix: Positive diagonals \"\n",
    "                     f\"(max value: {max_value:.2e})\")\n",
    "\n",
    "# Check numerical stability\n",
    "inf_norm_D1 = linalg.norm(D1, np.inf)\n",
    "if inf_norm_D1 > 9:\n",
    "    print(f\"Warning: High matrix norm ||D1||_inf = {inf_norm_D1:.2f} - \"\n",
    "           \"potential numerical instability\")"
   ]
  },
  {
   "cell_type": "code",
   "execution_count": 12,
   "id": "19c95481-7c67-4e88-9226-b4a60ae7b7eb",
   "metadata": {},
   "outputs": [],
   "source": [
    "# ==============================================\n",
    "# COMPUTATION of Invariant Distribution of D\n",
    "# ==============================================\n",
    "try:\n",
    "    # Construct linear system to calculate stationary distribution of the underlying Markov chain characterized by D:\n",
    "    # D^T π = 0 with constraint sum(π) = 1\n",
    "    DT = D.T.copy()\n",
    "    \n",
    "    # Replace first row with constraint equation\n",
    "    DT[0, :] = np.ones(n)\n",
    "    \n",
    "    # Right-hand side vector: [1, 0, 0, ...]\n",
    "    b = np.zeros(n)\n",
    "    b[0] = 1.0\n",
    "    \n",
    "    # Check matrix condition number\n",
    "    cond_num = np.linalg.cond(DT)\n",
    "    if cond_num > 1e12:\n",
    "        print(f\"Warning: Ill-conditioned matrix (cond={cond_num:.2e})\")\n",
    "    \n",
    "    # Solve for stationary distribution pi (pi is a 2D NumPy array of shape (1, n))\n",
    "    pi = np.linalg.solve(DT, b).reshape(1, n)\n",
    "\n",
    "except np.linalg.LinAlgError as e:\n",
    "    print(f\"Linear system solver failed: {str(e)}.\")\n",
    "    print(f'Make sure that the Q-matrix D is irreducible.')\n",
    "    raise"
   ]
  },
  {
   "cell_type": "code",
   "execution_count": 13,
   "id": "418849b2-fa56-4d48-bffc-10128060870a",
   "metadata": {},
   "outputs": [],
   "source": [
    "# Vector of ones (e is a 2D NumPy array of shape (n, 1))\n",
    "e = np.ones((n, 1))"
   ]
  },
  {
   "cell_type": "code",
   "execution_count": 14,
   "id": "47361086-f6a6-494a-bfb3-9af1ba70a861",
   "metadata": {},
   "outputs": [],
   "source": [
    "# ==============================================\n",
    "# BINOMIAL MOMENTS COMPUTATION\n",
    "# ==============================================\n",
    "binomial_moments = [1.0]  # strat with B_0 = 1\n",
    "\n",
    "# # Early return for trivial case\n",
    "# if M == 0:\n",
    "#     return binomial_moments\n",
    "\n",
    "# Compute first moment B1\n",
    "B1 = (pi @ D1 @ e) / d\n",
    "binomial_moments.append(float(B1[0, 0]))\n",
    "\n",
    "\n",
    "# Compute higher-order moments (B2 to BM)\n",
    "if M > 1:\n",
    "    B_vec = pi @ D1  # Initialize moment vector\n",
    "\n",
    "    index_at_threshold = None\n",
    "    \n",
    "    for i in range(2, M + 1):\n",
    "        # Construct matrix for current iteration\n",
    "        A = (i - 1) * d * np.eye(n) - D\n",
    "        \n",
    "        # Compute the inverse of (i-1)*d*I - D using scipy.linalg.inv()    \n",
    "        invA = linalg.inv(A)\n",
    "\n",
    "        # Compute next vector: B_vec = B_vec * inv(A) * D1\n",
    "        B_vec = B_vec @ invA @ D1\n",
    "        moment_i = (B_vec @ e) / (i * d)\n",
    "        moment_val = float(moment_i[0, 0])\n",
    "        \n",
    "        # Store computed moment\n",
    "        binomial_moments.append(moment_val)\n",
    "        \n",
    "        # Early termination if moments become negligible\n",
    "        if moment_val < threshold:\n",
    "            if index_at_threshold is None:\n",
    "                index_at_threshold = i\n",
    "                print(f\"Moments below threshold at i={i}\")\n",
    "                break"
   ]
  },
  {
   "cell_type": "code",
   "execution_count": 15,
   "id": "75a0ec5d-c3ec-401a-b5e1-6795d7113e6f",
   "metadata": {},
   "outputs": [],
   "source": [
    "# ==============================================\n",
    "# FINAL VALIDATION AND OUTPUT\n",
    "# ==============================================\n",
    "# Verify we computed the correct number of moments\n",
    "if len(binomial_moments) != M + 1:\n",
    "    print(f\"Expected {M+1} moments, got {len(binomial_moments)}. \")\n",
    "    print(f'\\nEarly stop due to threshold={threshold}')\n",
    "\n",
    "# # Print performance statistics\n",
    "# total_time = time.time() - start_time\n",
    "# print(f\"Computation completed in {total_time:.4f} seconds\")\n",
    "# print(f\"\\nComputed {len(binomial_moments)} binomial moments\")"
   ]
  },
  {
   "cell_type": "code",
   "execution_count": 16,
   "id": "386683fe-45e6-4ebd-a746-e35a3b398d4f",
   "metadata": {},
   "outputs": [],
   "source": [
    "# print(binomial_moments)"
   ]
  },
  {
   "cell_type": "code",
   "execution_count": 17,
   "id": "59bbc518-c8f5-405e-9fe9-2bc5ba97a979",
   "metadata": {},
   "outputs": [],
   "source": [
    "def stable_comb(n, k, b):\n",
    "    \"\"\"\n",
    "    Stable computation of math.comb(n, k) * b\n",
    "\n",
    "    This function avoids floating-point overflow/underflow by using logarithmic\n",
    "    transformations and gamma functions. Suitable for cases where b is extremely small.\n",
    "\n",
    "    Args:\n",
    "        n: Total items (integer >= 0)\n",
    "        k: Items to choose (integer, 0 <= k <= n)\n",
    "        b: Scaling factor (float >= 0)\n",
    "\n",
    "    Returns:\n",
    "        math.comb(n, k) * b as float, or 0.0 for edge cases\n",
    "\n",
    "    Raises:\n",
    "        ValueError: For invalid input parameters\n",
    "    \"\"\"\n",
    "    # Validate input parameters\n",
    "    if b < 0:\n",
    "        raise ValueError(f\"Scaling factor b must be non-negative. Received: {b}\")\n",
    "    if b == 0:\n",
    "        return 0.0\n",
    "    if not isinstance(n, int) or not isinstance(k, int):\n",
    "        raise TypeError(f\"Both n and N must be integers. Received types: n={type(n)}, N={type(k)}\")\n",
    "    if n < 0:\n",
    "        raise ValueError(f\"n must be non-negative. Received: {n}\")\n",
    "    if k < 0 or k > n:\n",
    "        # Combination is zero when N is out of range\n",
    "        raise ValueError(f\"k must satisfy 0 <= k <= n. Received: {k}\")\n",
    "\n",
    "    try:\n",
    "        # Compute combination using logarithmic gamma functions\n",
    "        # log(comb(n, N)) = lgamma(n+1) - lgamma(N+1) - lgamma(n-N+1)\n",
    "        log_comb = math.lgamma(n + 1) - math.lgamma(k + 1) - math.lgamma(n - k + 1)\n",
    "\n",
    "        # Add logarithm of scaling factor\n",
    "        log_total = log_comb + math.log(b)\n",
    "\n",
    "        # Handle potential underflow\n",
    "        if log_total < -700:  # exp(-700) ≈ 10^-304\n",
    "            return 0.0\n",
    "\n",
    "        return math.exp(log_total)\n",
    "\n",
    "    except ValueError as e:\n",
    "        # Handle domain errors in math functions\n",
    "        print(f\"Math domain error: {e}\")\n",
    "        raise\n",
    "    except OverflowError as e:\n",
    "        # Handle overflow in intermediate calculations\n",
    "        print(f\"Overflow in logarithmic calculation: {e}\")\n",
    "        return 0.0"
   ]
  },
  {
   "cell_type": "code",
   "execution_count": 18,
   "id": "d3d63141-a050-4b85-8097-3fc0f2ce357a",
   "metadata": {},
   "outputs": [],
   "source": [
    "N=31\n",
    "threshold=1e-5\n",
    "# Validate inputs\n",
    "\n",
    "M = len(binomial_moments) - 1  # Last available moment index (Note that len(binomial_moments) will be M+1)\n",
    "\n",
    "if N>int(M/2):\n",
    "    print(f'Input N is greater than M/2, which may cause instability. We replace N with floor(M/2)={math.floor(M/2)}')\n",
    "N=min(N, math.floor(M/2))"
   ]
  },
  {
   "cell_type": "code",
   "execution_count": 19,
   "id": "0dc58f19-d044-4ea5-9d28-4cbaaeba238a",
   "metadata": {},
   "outputs": [],
   "source": [
    "prob = [0.0] * N  # Initialize probabilities for n=0 to (N-1)"
   ]
  },
  {
   "cell_type": "code",
   "execution_count": 20,
   "id": "10321b56-299e-4ff3-92e0-ab970ee1b29f",
   "metadata": {},
   "outputs": [
    {
     "name": "stdout",
     "output_type": "stream",
     "text": [
      "Probability Density Function Value below threshold at n=23\n"
     ]
    }
   ],
   "source": [
    "# ==============================================\n",
    "# Start timing the computation\n",
    "# start_time = time.time()\n",
    "# ==============================================\n",
    "\n",
    "index_at_threshold=None\n",
    "\n",
    "# Compute probabilities for n=0 to N-1\n",
    "for n in range(N):\n",
    "    total = 0.0\n",
    "    sign = 1  # Starts positive for j=n\n",
    "    cumulative_error = 0.0\n",
    "    \n",
    "    for j in range(n, M + 1):\n",
    "        # Compute term: (-1)^(j-n) * C(j, n) * B_j\n",
    "        term = sign * stable_comb(j,n,binomial_moments[j])\n",
    "        total += term\n",
    "        \n",
    "        # # Track floating-point error accumulation\n",
    "        # cumulative_error += abs(term) * 1e-15\n",
    "            \n",
    "        sign = -sign  # Flip sign for next term\n",
    "\n",
    "    \n",
    "    # Apply floating-point error correction\n",
    "    prob[n]= total\n",
    "    # prob[n] = max(0.0, total) if abs(total) < cumulative_error else total\n",
    "\n",
    "    # Early termination if moments become negligible\n",
    "    if total < threshold:\n",
    "        if index_at_threshold is None:\n",
    "            index_at_threshold = n\n",
    "            print(f\"Probability Density Function Value below threshold at n={n}\")\n",
    "            break"
   ]
  },
  {
   "cell_type": "code",
   "execution_count": 21,
   "id": "34ddb871-0f38-406d-9367-0e8a7c89f77b",
   "metadata": {},
   "outputs": [
    {
     "name": "stdout",
     "output_type": "stream",
     "text": [
      "Sum of calculated probability is: 0.9999982110301964\n"
     ]
    }
   ],
   "source": [
    "# ==============================================\n",
    "# FINAL VALIDATION AND OUTPUT\n",
    "# ==============================================\n",
    "# Verify we computed the correct number of moments\n",
    "if len(prob) != N:\n",
    "    print(f\"Expected {N} probability density function value, got {len(prob)}.\")\n",
    "    print(f\"\\n Two Posible Reasons:\")\n",
    "    print(f'\\n Early stop happened due to threshold={threshold}')\n",
    "    print(f\"\\n Input N is greater than M/2. Increase M is recommended\")\n",
    "    \n",
    "# Print summary\n",
    "# end_time = time.time()\n",
    "# print(f\"Computed {N} probabilities in {end_time-start_time:.6f} seconds\")\n",
    "\n",
    "s=sum(prob)\n",
    "print(f'Sum of calculated probability is: {s}')\n",
    "if abs(s-1)>1e-1 and abs(s-1)<1:\n",
    "    print(f\"Probability density function value after {N} is not negligible.\")\n",
    "    print(f\"\\n Increase N is recommended.\")\n",
    "elif abs(s-1)>1:\n",
    "    print(f\"There is severe floating point error, please increase M.\")  "
   ]
  },
  {
   "cell_type": "code",
   "execution_count": 22,
   "id": "48f7febe-5be0-49a1-a9f8-c800c604119c",
   "metadata": {},
   "outputs": [
    {
     "name": "stdout",
     "output_type": "stream",
     "text": [
      "[0.0004380982321958292, 0.0034011022789675015, 0.013188173669002639, 0.034057158947054175, 0.06589436022281203, 0.10189167260460202, 0.13116414925172945, 0.14458366998006553, 0.139319979747191, 0.11921883521899714, 0.09173111416441423, 0.0641064382139709, 0.04103098903487286, 0.02422044765188877, 0.013264703259713153, 0.006774658529114452, 0.0032411114997792237, 0.001458225134142408, 0.0006191444505676432, 0.0002488547416168939, 9.495069667535604e-05, 3.447804906221649e-05, 1.1941864649572523e-05, 3.95358711138508e-06, 0.0, 0.0, 0.0, 0.0, 0.0, 0.0, 0.0]\n"
     ]
    }
   ],
   "source": [
    "print(prob)"
   ]
  },
  {
   "cell_type": "code",
   "execution_count": 23,
   "id": "69a990ba-0763-4996-ba46-258d5270f295",
   "metadata": {},
   "outputs": [],
   "source": [
    "# np.save('fig3_MAIN_a.npy', prob)\n",
    "# np.save('fig3_MAIN_b.npy', prob)\n",
    "# np.save('fig3_MAIN_c.npy', prob)\n",
    "# np.save('fig3_MAIN_d.npy', prob)"
   ]
  },
  {
   "cell_type": "markdown",
   "id": "b4846ac3-7091-461c-8744-2c59d858b139",
   "metadata": {},
   "source": [
    "## Visualization of Steady-state Probability Distribution of mRNA Copy Number"
   ]
  },
  {
   "cell_type": "code",
   "execution_count": 22,
   "id": "d7e76241-1871-4116-a2eb-851a2b5c6445",
   "metadata": {},
   "outputs": [],
   "source": [
    "import matplotlib.pyplot as plt"
   ]
  },
  {
   "cell_type": "code",
   "execution_count": 23,
   "id": "417ad9ba-aa57-4b13-8327-8ffa85dc21e8",
   "metadata": {},
   "outputs": [],
   "source": [
    "plt.figure(figsize=(8, 8),dpi=100)\n",
    "plt.rcParams['axes.linewidth'] = 3\n",
    "# plt.plot(list(range(len(prob))), (np.array(prob)).flatten(),\n",
    "# color='red', linestyle='--', marker='o', markerfacecolor='blue',\n",
    "# markeredgecolor='green',linewidth=2,label='Theoretical Result')\n",
    "plt.stem(list(range(len(prob))), (np.array(prob)).flatten(),linefmt='r--',\n",
    "         markerfmt='bo',basefmt=\"\",label='Theoretical Result')\n",
    "plt.setp(plt.gca().get_lines(), markersize=15)\n",
    "# plt.xlim(0, 40)\n",
    "# plt.ylim(0, 0.1)\n",
    "plt.xticks(\n",
    "    # ticks=list(range(0,45,5)),\n",
    "           fontsize=40,\n",
    "           color='blue',\n",
    "           # fontname='Times New Roman',\n",
    "           fontname='DejaVu Sans',\n",
    "           ha='right')\n",
    "plt.yticks(\n",
    "    # ticks=np.arange(0.02, 0.12, 0.02),\n",
    "           fontsize=40,\n",
    "           color='blue',\n",
    "           rotation=90,\n",
    "           # fontname='Times New Roman',\n",
    "           fontname='DejaVu Sans',\n",
    "           ha='right')\n",
    "# plt.title(f'No.{r}Distribution with threshold={threshold},\n",
    "# end at index {2*index_at_threshold}, sum of prob={s}, d={d}, timing={timing:.2f}s\n",
    "# \\n D0={D0},D1={D1}',fontname='Times New Roman',fontsize=20,fontweight='bold')\n",
    "plt.title(f'Theoretical Result Verified by Stochastic Simulation',\n",
    "          # fontname='Times New Roman',\n",
    "           fontname='DejaVu Sans',\n",
    "          fontsize=30,fontweight='bold',color='green')\n",
    "plt.xlabel('Number of mRNA Molecules',fontsize=35,fontweight='bold',\n",
    "           labelpad=20,\n",
    "           # fontname='Times New Roman',\n",
    "           fontname='DejaVu Sans',\n",
    "           color='green')\n",
    "plt.ylabel('Probability',fontsize=35,fontweight='bold',\n",
    "           labelpad=40,\n",
    "           # fontname='Times New Roman',\n",
    "           fontname='DejaVu Sans',\n",
    "           color='green',rotation=75)\n",
    "plt.tick_params(direction='out',width=3,length=10)\n",
    "# plt.axhline(0, color='blue', linewidth=2)\n",
    "# plt.axhline(0, color='blue', linewidth=2)\n",
    "# from SSA_5_plot import RNAnumber\n",
    "# plt.hist(RNAnumber,bins=np.arange(-0.5, 41.5, 1), density=True, color='#228B22', edgecolor='green', alpha=0.3,\n",
    "#              linewidth=2,align='mid',label='Stochastic Simulation')\n",
    "# plt.legend(loc='upper right', frameon=True, shadow=True, markerscale=2,\n",
    "#            fancybox=True,prop={'family': 'Times New Roman','size': 40})\n",
    "# print(\"Saving figure...\")\n",
    "# plt.savefig('Example2.pdf', format='pdf',edgecolor='black', dpi=800)\n",
    "# plt.show()\n",
    "plt.close()"
   ]
  },
  {
   "cell_type": "code",
   "execution_count": null,
   "id": "36e80895-3f31-48f7-a783-37c85feb2630",
   "metadata": {},
   "outputs": [],
   "source": []
  }
 ],
 "metadata": {
  "kernelspec": {
   "display_name": "Python 3 (ipykernel)",
   "language": "python",
   "name": "python3"
  },
  "language_info": {
   "codemirror_mode": {
    "name": "ipython",
    "version": 3
   },
   "file_extension": ".py",
   "mimetype": "text/x-python",
   "name": "python",
   "nbconvert_exporter": "python",
   "pygments_lexer": "ipython3",
   "version": "3.12.3"
  }
 },
 "nbformat": 4,
 "nbformat_minor": 5
}
