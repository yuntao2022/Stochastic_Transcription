{
 "cells": [
  {
   "cell_type": "markdown",
   "id": "9e8652d7-9477-4005-a022-eabf1c461a7b",
   "metadata": {},
   "source": [
    "## **Stochastic Simulation Algorithm (SSA)**\n",
    "\n",
    "**Stochastic Kinetics of mRNA Molecules in a General Transcription Model**\n",
    "\n",
    "*Yuntao Lu and Yunxin Zhang*\n",
    "\n",
    "School of Mathematical Sciences, Fudan University, Shanghai 200433, China\n",
    "\n",
    "Email: `yuntaolu22@m.fudan.edu.cn` and `xyz@fudan.edu.cn`\n",
    "\n",
    "This script is written to time SSA, generating date used to plot Figure 4. "
   ]
  },
  {
   "cell_type": "code",
   "execution_count": 1,
   "id": "eb253806-f89d-4066-97a7-fe6b7dc95a74",
   "metadata": {},
   "outputs": [],
   "source": [
    "import gillespy2\n",
    "import numpy as np\n",
    "import time"
   ]
  },
  {
   "cell_type": "code",
   "execution_count": 2,
   "id": "2f1254d2-ec0a-4914-b439-8467fe0f303d",
   "metadata": {},
   "outputs": [],
   "source": [
    "import Parameters_for_Figures"
   ]
  },
  {
   "cell_type": "code",
   "execution_count": 3,
   "id": "73a1f8ac-a77a-48b8-b2e7-b51ab22e3a5f",
   "metadata": {},
   "outputs": [],
   "source": [
    "# ===================================================================\n",
    "# Specify parameters in the model here.\n",
    "# Input:\n",
    "# D0 (np.ndarray): Transition rate matrix for non-transcription events\n",
    "# D1 (np.ndarray): Transition rate matrix for transcription events\n",
    "# ==================================================================="
   ]
  },
  {
   "cell_type": "code",
   "execution_count": 4,
   "id": "7a5e79fb-519e-4a06-926a-c4137f06e392",
   "metadata": {},
   "outputs": [],
   "source": [
    "# D0=Parameters_for_Figures.D0_1\n",
    "# D1=Parameters_for_Figures.D1_1"
   ]
  },
  {
   "cell_type": "code",
   "execution_count": 5,
   "id": "216c706b-9aeb-404e-9345-df493eb876ca",
   "metadata": {},
   "outputs": [],
   "source": [
    "# D0=Parameters_for_Figures.D0_3a\n",
    "# D1=Parameters_for_Figures.D1_3a"
   ]
  },
  {
   "cell_type": "code",
   "execution_count": 6,
   "id": "9d9894fe-ca4e-41a6-94ed-4218d2a1c2e1",
   "metadata": {},
   "outputs": [],
   "source": [
    "# D0=Parameters_for_Figures.D0_3b\n",
    "# D1=Parameters_for_Figures.D1_3b"
   ]
  },
  {
   "cell_type": "code",
   "execution_count": 7,
   "id": "268d892f-304c-489a-b265-a8c4d847adea",
   "metadata": {},
   "outputs": [],
   "source": [
    "d=1"
   ]
  },
  {
   "cell_type": "code",
   "execution_count": 8,
   "id": "d824a298cabe6051",
   "metadata": {},
   "outputs": [],
   "source": [
    "def SSA_time(D0,D1):\n",
    "    \n",
    "    N=D0.shape[0]\n",
    "    \n",
    "    class Transcription(gillespy2.Model):\n",
    "        def __init__(self, parameter_values=None):\n",
    "            # Initialize the model\n",
    "            gillespy2.Model.__init__(self, name=\"Transcription\")\n",
    "    \n",
    "            # N=D0.shape[0]\n",
    "            \n",
    "            # Parameters established\n",
    "            params = []\n",
    "            for i in range(N):\n",
    "                for j in range(N):\n",
    "                    if str(float(D1[i, j]))==0:\n",
    "                        pass\n",
    "                    param_name = f'p{i+1}_{j+1}'\n",
    "                    param_value = str(float(D1[i, j]))\n",
    "                    params.append(gillespy2.Parameter(name=param_name, expression=param_value))\n",
    "            for i in range(N):\n",
    "                for j in range(N):\n",
    "                    if i == j:\n",
    "                        continue\n",
    "                    if str(float(D0[i, j]))==0:\n",
    "                        pass\n",
    "                    param_name = f't{i+1}_{j+1}'\n",
    "                    param_value = str(float(D0[i, j])) \n",
    "                    params.append(gillespy2.Parameter(name=param_name, expression=param_value))\n",
    "            params.append(gillespy2.Parameter(name='d', expression=1))\n",
    "            self.add_parameter(params)\n",
    "    \n",
    "            # Species established\n",
    "            mRNA = gillespy2.Species(name='mRNA', initial_value=0)\n",
    "            state1 = gillespy2.Species(name='state1', initial_value=1)\n",
    "            state=[]\n",
    "            for i in range(2,N+1):\n",
    "                state_name=f\"state{i}\"\n",
    "                state.append(gillespy2.Species(name=state_name, initial_value=0))\n",
    "            state.append(state1)\n",
    "            state.append(mRNA)\n",
    "            self.add_species(state)\n",
    "            state_only=[]\n",
    "            for i in range(1,N+1):\n",
    "                state_only.append(f\"state{i}\")\n",
    "    \n",
    "            # Reaction Objects Built\n",
    "            reactions = []\n",
    "            for i in range(N):\n",
    "                for j in range(N):\n",
    "                    rxn_name = f\"Pr{i+1}_{j+1}\"\n",
    "                    rate_param = f'p{i+1}_{j+1}'\n",
    "                    reactions.append(gillespy2.Reaction(\n",
    "                        name=rxn_name,\n",
    "                        reactants={state_only[i]: 1},\n",
    "                        products={state_only[j]: 1, mRNA: 1},\n",
    "                        rate=rate_param\n",
    "                    ))\n",
    "            for i in range(N):\n",
    "                for j in range(N):\n",
    "                    if i==j:\n",
    "                        continue\n",
    "                    rxn_name = f\"Tr{i+1}_{j+1}\"\n",
    "                    rate_param = f't{i+1}_{j+1}'\n",
    "                    reactions.append(gillespy2.Reaction(\n",
    "                        name=rxn_name,\n",
    "                        reactants={state_only[i]: 1},\n",
    "                        products={state_only[j]: 1},\n",
    "                        rate=rate_param\n",
    "                    ))\n",
    "            reactions.append(gillespy2.Reaction(\n",
    "                name=\"dec\",\n",
    "                reactants={mRNA: 1},\n",
    "                products={},\n",
    "                rate='d'\n",
    "            ))\n",
    "            self.add_reaction(reactions)\n",
    "            \n",
    "            # TimeSpan specifies the time points at which to keep data from a simulation\n",
    "            self.timespan(np.linspace(0, 10, 2))\n",
    "    # This is original SSA using Python solver NumPySSASolver from gillespy2.\n",
    "    model= gillespy2.NumPySSASolver(model=Transcription())\n",
    "    \n",
    "    # This is Tau-Leaping simulation algorithm, an accelerated version of original SSA.\n",
    "    # We use the Python solver TauLeapingSolver from gillespy2.\n",
    "    # model= gillespy2.TauLeapingSolver(model=MAP())\n",
    "    \n",
    "    # Start timing the programme\n",
    "    start_time = time.time()\n",
    "    \n",
    "    trajectories=1000\n",
    "    \n",
    "    model.run(number_of_trajectories=trajectories)\n",
    "    \n",
    "    # Timing ends here\n",
    "    end_time = time.time()\n",
    "    timing = end_time - start_time\n",
    "    \n",
    "    print(f\"Running time for SSA (model of oder {N}; 1000 trajectories; simulation time T=10): {timing:.8f} seconds.\")\n",
    "    \n",
    "    return timing"
   ]
  },
  {
   "cell_type": "code",
   "execution_count": 9,
   "id": "2205345357f4ff7b",
   "metadata": {},
   "outputs": [
    {
     "name": "stdout",
     "output_type": "stream",
     "text": [
      "Running time for SSA (model of oder 1; 1000 trajectories; simulation time T=10): 0.19171405 seconds.\n",
      "Running time for SSA (model of oder 1; 1000 trajectories; simulation time T=10): 0.24007273 seconds.\n",
      "Running time for SSA (model of oder 1; 1000 trajectories; simulation time T=10): 0.17619228 seconds.\n",
      "Running time for SSA (model of oder 2; 1000 trajectories; simulation time T=10): 0.63108492 seconds.\n",
      "Running time for SSA (model of oder 2; 1000 trajectories; simulation time T=10): 0.61968350 seconds.\n",
      "Running time for SSA (model of oder 2; 1000 trajectories; simulation time T=10): 0.61241889 seconds.\n",
      "Running time for SSA (model of oder 3; 1000 trajectories; simulation time T=10): 1.64292359 seconds.\n",
      "Running time for SSA (model of oder 3; 1000 trajectories; simulation time T=10): 1.43971467 seconds.\n",
      "Running time for SSA (model of oder 3; 1000 trajectories; simulation time T=10): 0.90992785 seconds.\n",
      "Running time for SSA (model of oder 4; 1000 trajectories; simulation time T=10): 3.52258992 seconds.\n",
      "Running time for SSA (model of oder 4; 1000 trajectories; simulation time T=10): 2.01262212 seconds.\n",
      "Running time for SSA (model of oder 4; 1000 trajectories; simulation time T=10): 3.33598948 seconds.\n",
      "Running time for SSA (model of oder 5; 1000 trajectories; simulation time T=10): 3.86615586 seconds.\n",
      "Running time for SSA (model of oder 5; 1000 trajectories; simulation time T=10): 5.05921960 seconds.\n",
      "Running time for SSA (model of oder 5; 1000 trajectories; simulation time T=10): 5.39241290 seconds.\n",
      "Running time for SSA (model of oder 6; 1000 trajectories; simulation time T=10): 7.07806826 seconds.\n",
      "Running time for SSA (model of oder 6; 1000 trajectories; simulation time T=10): 6.96140599 seconds.\n",
      "Running time for SSA (model of oder 6; 1000 trajectories; simulation time T=10): 7.02966642 seconds.\n",
      "Running time for SSA (model of oder 7; 1000 trajectories; simulation time T=10): 11.42280054 seconds.\n",
      "Running time for SSA (model of oder 7; 1000 trajectories; simulation time T=10): 11.17232990 seconds.\n",
      "Running time for SSA (model of oder 7; 1000 trajectories; simulation time T=10): 12.81220865 seconds.\n",
      "Running time for SSA (model of oder 8; 1000 trajectories; simulation time T=10): 17.58241057 seconds.\n",
      "Running time for SSA (model of oder 8; 1000 trajectories; simulation time T=10): 17.81574178 seconds.\n",
      "Running time for SSA (model of oder 8; 1000 trajectories; simulation time T=10): 19.56984711 seconds.\n",
      "Running time for SSA (model of oder 9; 1000 trajectories; simulation time T=10): 29.10481167 seconds.\n",
      "Running time for SSA (model of oder 9; 1000 trajectories; simulation time T=10): 28.30646229 seconds.\n",
      "Running time for SSA (model of oder 9; 1000 trajectories; simulation time T=10): 26.83013248 seconds.\n",
      "Running time for SSA (model of oder 10; 1000 trajectories; simulation time T=10): 39.35713506 seconds.\n",
      "Running time for SSA (model of oder 10; 1000 trajectories; simulation time T=10): 40.28474212 seconds.\n",
      "Running time for SSA (model of oder 10; 1000 trajectories; simulation time T=10): 39.52915645 seconds.\n"
     ]
    }
   ],
   "source": [
    "times=[]\n",
    "for i in range(1,11):\n",
    "    time1=SSA_time(Parameters_for_Figures.generate_D0n(i),\n",
    "                     Parameters_for_Figures.generate_D1n(i),\n",
    "                     )\n",
    "    time2=SSA_time(Parameters_for_Figures.generate_D0n(i),\n",
    "                     Parameters_for_Figures.generate_D1n(i),\n",
    "                     )\n",
    "    time3=SSA_time(Parameters_for_Figures.generate_D0n(i),\n",
    "                     Parameters_for_Figures.generate_D1n(i),\n",
    "                     )\n",
    "    times.append(float(np.average([time1,time2,time3])))"
   ]
  },
  {
   "cell_type": "raw",
   "id": "e86837dc-85a1-423e-b23b-2cc7a3e16900",
   "metadata": {},
   "source": [
    "Running time for SSA (model of oder 1; 1000 trajectories; simulation time T=10): 0.19171405 seconds.\n",
    "Running time for SSA (model of oder 1; 1000 trajectories; simulation time T=10): 0.24007273 seconds.\n",
    "Running time for SSA (model of oder 1; 1000 trajectories; simulation time T=10): 0.17619228 seconds.\n",
    "Running time for SSA (model of oder 2; 1000 trajectories; simulation time T=10): 0.63108492 seconds.\n",
    "Running time for SSA (model of oder 2; 1000 trajectories; simulation time T=10): 0.61968350 seconds.\n",
    "Running time for SSA (model of oder 2; 1000 trajectories; simulation time T=10): 0.61241889 seconds.\n",
    "Running time for SSA (model of oder 3; 1000 trajectories; simulation time T=10): 1.64292359 seconds.\n",
    "Running time for SSA (model of oder 3; 1000 trajectories; simulation time T=10): 1.43971467 seconds.\n",
    "Running time for SSA (model of oder 3; 1000 trajectories; simulation time T=10): 0.90992785 seconds.\n",
    "Running time for SSA (model of oder 4; 1000 trajectories; simulation time T=10): 3.52258992 seconds.\n",
    "Running time for SSA (model of oder 4; 1000 trajectories; simulation time T=10): 2.01262212 seconds.\n",
    "Running time for SSA (model of oder 4; 1000 trajectories; simulation time T=10): 3.33598948 seconds.\n",
    "Running time for SSA (model of oder 5; 1000 trajectories; simulation time T=10): 3.86615586 seconds.\n",
    "Running time for SSA (model of oder 5; 1000 trajectories; simulation time T=10): 5.05921960 seconds.\n",
    "Running time for SSA (model of oder 5; 1000 trajectories; simulation time T=10): 5.39241290 seconds.\n",
    "Running time for SSA (model of oder 6; 1000 trajectories; simulation time T=10): 7.07806826 seconds.\n",
    "Running time for SSA (model of oder 6; 1000 trajectories; simulation time T=10): 6.96140599 seconds.\n",
    "Running time for SSA (model of oder 6; 1000 trajectories; simulation time T=10): 7.02966642 seconds.\n",
    "Running time for SSA (model of oder 7; 1000 trajectories; simulation time T=10): 11.42280054 seconds.\n",
    "Running time for SSA (model of oder 7; 1000 trajectories; simulation time T=10): 11.17232990 seconds.\n",
    "Running time for SSA (model of oder 7; 1000 trajectories; simulation time T=10): 12.81220865 seconds.\n",
    "Running time for SSA (model of oder 8; 1000 trajectories; simulation time T=10): 17.58241057 seconds.\n",
    "Running time for SSA (model of oder 8; 1000 trajectories; simulation time T=10): 17.81574178 seconds.\n",
    "Running time for SSA (model of oder 8; 1000 trajectories; simulation time T=10): 19.56984711 seconds.\n",
    "Running time for SSA (model of oder 9; 1000 trajectories; simulation time T=10): 29.10481167 seconds.\n",
    "Running time for SSA (model of oder 9; 1000 trajectories; simulation time T=10): 28.30646229 seconds.\n",
    "Running time for SSA (model of oder 9; 1000 trajectories; simulation time T=10): 26.83013248 seconds.\n",
    "Running time for SSA (model of oder 10; 1000 trajectories; simulation time T=10): 39.35713506 seconds.\n",
    "Running time for SSA (model of oder 10; 1000 trajectories; simulation time T=10): 40.28474212 seconds.\n",
    "Running time for SSA (model of oder 10; 1000 trajectories; simulation time T=10): 39.52915645 seconds."
   ]
  },
  {
   "cell_type": "code",
   "execution_count": 10,
   "id": "347e6403011053fa",
   "metadata": {},
   "outputs": [],
   "source": [
    "# Save the results in a `.npy` file\n",
    "# np.save('SSA_times.npy', times)"
   ]
  },
  {
   "cell_type": "code",
   "execution_count": 11,
   "id": "de3ccf63-3e6e-41a8-bc41-45c49d552d90",
   "metadata": {},
   "outputs": [
    {
     "name": "stdout",
     "output_type": "stream",
     "text": [
      "[0.20265968640645346, 0.621062437693278, 1.330855369567871, 2.9570671717325845, 4.772596120834351, 7.023046890894572, 11.802446365356445, 18.32266648610433, 28.08046881357829, 39.72367787361145]\n"
     ]
    }
   ],
   "source": [
    "# load .npy file\n",
    "loaded_array = np.load('SSA_times.npy')\n",
    "loaded_list_from_array = loaded_array.tolist()\n",
    "print(loaded_list_from_array)"
   ]
  }
 ],
 "metadata": {
  "kernelspec": {
   "display_name": "Python 3 (ipykernel)",
   "language": "python",
   "name": "python3"
  },
  "language_info": {
   "codemirror_mode": {
    "name": "ipython",
    "version": 3
   },
   "file_extension": ".py",
   "mimetype": "text/x-python",
   "name": "python",
   "nbconvert_exporter": "python",
   "pygments_lexer": "ipython3",
   "version": "3.12.3"
  }
 },
 "nbformat": 4,
 "nbformat_minor": 5
}
