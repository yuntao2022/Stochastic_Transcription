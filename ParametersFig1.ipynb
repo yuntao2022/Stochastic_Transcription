{
 "cells": [
  {
   "cell_type": "code",
   "id": "0d8a0d45-010b-4d3c-aa4d-233f32702b84",
   "metadata": {
    "ExecuteTime": {
     "end_time": "2025-10-30T17:47:40.102735Z",
     "start_time": "2025-10-30T17:47:40.059635Z"
    }
   },
   "source": [
    "# import parameter matrices prepared for figures in the paper\n",
    "import Parameters_for_Figures"
   ],
   "outputs": [],
   "execution_count": 1
  },
  {
   "cell_type": "code",
   "id": "b00a5df5-cc57-449b-9dbe-808e3c6156e1",
   "metadata": {
    "ExecuteTime": {
     "end_time": "2025-10-30T17:47:40.641496Z",
     "start_time": "2025-10-30T17:47:40.637235Z"
    }
   },
   "source": "print(Parameters_for_Figures.D0_1)",
   "outputs": [
    {
     "name": "stdout",
     "output_type": "stream",
     "text": [
      "[[-2.110e+00  1.000e-01  0.000e+00  0.000e+00  1.000e-02]\n",
      " [ 1.000e-01 -2.610e+00  5.000e-01  0.000e+00  1.000e-02]\n",
      " [ 1.000e-01  2.000e-01 -5.400e+00  0.000e+00  1.000e-01]\n",
      " [ 1.000e-01  1.000e-01  3.000e-01 -3.500e+00  0.000e+00]\n",
      " [ 1.000e-01  1.000e-01  1.000e-01  1.000e-01 -1.004e+02]]\n"
     ]
    }
   ],
   "execution_count": 2
  },
  {
   "cell_type": "code",
   "id": "c52d7b9c-e682-4efb-8748-d8f3ba00cd9a",
   "metadata": {
    "ExecuteTime": {
     "end_time": "2025-10-30T17:47:59.760612Z",
     "start_time": "2025-10-30T17:47:59.757487Z"
    }
   },
   "source": "print(Parameters_for_Figures.D1_1)",
   "outputs": [
    {
     "name": "stdout",
     "output_type": "stream",
     "text": [
      "[[  0   0   1   0   1]\n",
      " [  1   1   0   0   0]\n",
      " [  1   2   1   1   0]\n",
      " [  1   0   0   1   1]\n",
      " [  0   0   0   0 100]]\n"
     ]
    }
   ],
   "execution_count": 3
  },
  {
   "metadata": {},
   "cell_type": "code",
   "outputs": [],
   "execution_count": null,
   "source": "",
   "id": "257cddecc55e139"
  }
 ],
 "metadata": {
  "kernelspec": {
   "display_name": "Python 3 (ipykernel)",
   "language": "python",
   "name": "python3"
  },
  "language_info": {
   "codemirror_mode": {
    "name": "ipython",
    "version": 3
   },
   "file_extension": ".py",
   "mimetype": "text/x-python",
   "name": "python",
   "nbconvert_exporter": "python",
   "pygments_lexer": "ipython3",
   "version": "3.12.3"
  }
 },
 "nbformat": 4,
 "nbformat_minor": 5
}
