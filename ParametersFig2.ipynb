{
 "cells": [
  {
   "cell_type": "code",
   "id": "0d8a0d45-010b-4d3c-aa4d-233f32702b84",
   "metadata": {
    "ExecuteTime": {
     "end_time": "2025-10-30T17:49:16.320558Z",
     "start_time": "2025-10-30T17:49:16.265748Z"
    }
   },
   "source": [
    "# import parameter matrices prepared for figures in the paper\n",
    "import Parameters_for_Figures"
   ],
   "outputs": [],
   "execution_count": 1
  },
  {
   "cell_type": "code",
   "id": "b00a5df5-cc57-449b-9dbe-808e3c6156e1",
   "metadata": {
    "ExecuteTime": {
     "end_time": "2025-10-30T17:49:16.474318Z",
     "start_time": "2025-10-30T17:49:16.470822Z"
    }
   },
   "source": "print(Parameters_for_Figures.D0_2)",
   "outputs": [
    {
     "name": "stdout",
     "output_type": "stream",
     "text": [
      "[[ -7   2   3   0]\n",
      " [  3 -12   1   5]\n",
      " [  1   2 -12   6]\n",
      " [  8   8   0 -19]]\n"
     ]
    }
   ],
   "execution_count": 2
  },
  {
   "cell_type": "code",
   "id": "c52d7b9c-e682-4efb-8748-d8f3ba00cd9a",
   "metadata": {
    "ExecuteTime": {
     "end_time": "2025-10-30T17:49:17.820592Z",
     "start_time": "2025-10-30T17:49:17.819095Z"
    }
   },
   "source": "print(Parameters_for_Figures.D1_2)",
   "outputs": [
    {
     "name": "stdout",
     "output_type": "stream",
     "text": [
      "[[1 1 0 0]\n",
      " [1 0 1 1]\n",
      " [0 1 1 1]\n",
      " [1 1 0 1]]\n"
     ]
    }
   ],
   "execution_count": 3
  },
  {
   "metadata": {},
   "cell_type": "code",
   "outputs": [],
   "execution_count": null,
   "source": "",
   "id": "257cddecc55e139"
  }
 ],
 "metadata": {
  "kernelspec": {
   "display_name": "Python 3 (ipykernel)",
   "language": "python",
   "name": "python3"
  },
  "language_info": {
   "codemirror_mode": {
    "name": "ipython",
    "version": 3
   },
   "file_extension": ".py",
   "mimetype": "text/x-python",
   "name": "python",
   "nbconvert_exporter": "python",
   "pygments_lexer": "ipython3",
   "version": "3.12.3"
  }
 },
 "nbformat": 4,
 "nbformat_minor": 5
}
